{
 "cells": [
  {
   "cell_type": "markdown",
   "id": "505322c2",
   "metadata": {},
   "source": [
    "# Realestate Web Scraping from Housing.com"
   ]
  },
  {
   "cell_type": "markdown",
   "id": "27245d25",
   "metadata": {},
   "source": [
    "**Imports**"
   ]
  },
  {
   "cell_type": "code",
   "execution_count": 74,
   "id": "9fe28f5c",
   "metadata": {},
   "outputs": [],
   "source": [
    "import pandas as pd\n",
    "import requests\n",
    "from bs4 import BeautifulSoup\n",
    "import numpy as np\n",
    "import seaborn as sns\n",
    "import matplotlib.pyplot as plt\n",
    "%matplotlib inline"
   ]
  },
  {
   "cell_type": "code",
   "execution_count": 93,
   "id": "20844f73",
   "metadata": {},
   "outputs": [
    {
     "name": "stderr",
     "output_type": "stream",
     "text": [
      "/var/folders/3t/zxnk1ncx3j59ktgkp229glgr0000gn/T/ipykernel_60355/2185033704.py:59: FutureWarning: The frame.append method is deprecated and will be removed from pandas in a future version. Use pandas.concat instead.\n",
      "  final = final.append(df, ignore_index = True)\n"
     ]
    }
   ],
   "source": [
    "#Creating an empty DataFrame, Final to save our looped loaded pages from the website, 'housing.com'\n",
    "final = pd.DataFrame()\n",
    "\n",
    "url = 'https://housing.com/in/buy/searches/P679xe73u28050522'\n",
    "#Sending a header to the website\n",
    "headers = {'USER-AGENT' : 'Mozilla/5.0 (Macintosh; Intel Mac OS X 10_15_7) AppleWebKit/605.1.15 (KHTML, like Gecko) Version/16.2 Safari/605.1.15'}\n",
    "webpage = requests.get(url, headers = headers).text\n",
    "\n",
    "soup = BeautifulSoup(webpage, 'lxml')\n",
    "properties = soup.find_all('div', class_='css-zrd0bv')\n",
    "sqft_price = soup.find_all('div', class_ ='css-ebj250')\n",
    "\n",
    "#creating empty lists of all the columns to be scrapped from the website\n",
    "prop_name = []\n",
    "dev_name = []\n",
    "flat_size = []\n",
    "location = []\n",
    "price = []\n",
    "emi = []\n",
    "possession = []\n",
    "avg_sqft_price = []\n",
    "\n",
    "\n",
    "for i in properties:\n",
    "    try:\n",
    "        prop_name.append(i.find('h2', class_ = 'css-zxue4u').text.strip())\n",
    "    except:\n",
    "        prop_name.append(np.nan)\n",
    "    try:\n",
    "        dev_name.append(i.find('div', class_ = 'css-1j62xqm').text.strip())\n",
    "    except:\n",
    "        dev_name.append(np.nan)\n",
    "    try:\n",
    "        flat_size.append(i.find('h3', class_ = 'css-197fqpq').text.strip())\n",
    "    except:\n",
    "        flat_size.append(np.nan)\n",
    "    try:\n",
    "        location.append(i.find('a', class_ = 'css-1pzt6q2').text.strip())\n",
    "    except:\n",
    "        location.append(np.nan)\n",
    "    try:\n",
    "        price.append(i.find('div', class_ = 'css-18rodr0').text.strip()[11:15])\n",
    "    except:\n",
    "        price.append(np.nan)\n",
    "    try:\n",
    "        emi.append(i.find('span', class_ = 'css-nin1gj').text.strip()[15:20])\n",
    "    except:\n",
    "        emi.append(np.nan)\n",
    "    try:\n",
    "        possession.append(i.find('div', class_ = 'css-4z3njv').text.strip())\n",
    "    except:\n",
    "        possession.append(np.nan)    \n",
    "    try:\n",
    "        avg_sqft_price.append(i.find_all('div', class_ = 'css-4z3njv')[1].text.strip())\n",
    "    except:\n",
    "        avg_sqft_price.append(np.nan)\n",
    "\n",
    "\n",
    "\n",
    "    d = {'prop_name':prop_name, 'dev_name':dev_name, 'flat_size':flat_size, 'location':location, 'price':price, 'emi':emi, 'possession':possession, 'avg_sqft_price':avg_sqft_price}\n",
    "    df = pd.DataFrame(d)\n",
    "#Appending all the retrieved pages into final    \n",
    "    final = final.append(df, ignore_index = True)"
   ]
  },
  {
   "cell_type": "code",
   "execution_count": 76,
   "id": "ea63aed3",
   "metadata": {},
   "outputs": [
    {
     "data": {
      "text/html": [
       "<div>\n",
       "<style scoped>\n",
       "    .dataframe tbody tr th:only-of-type {\n",
       "        vertical-align: middle;\n",
       "    }\n",
       "\n",
       "    .dataframe tbody tr th {\n",
       "        vertical-align: top;\n",
       "    }\n",
       "\n",
       "    .dataframe thead th {\n",
       "        text-align: right;\n",
       "    }\n",
       "</style>\n",
       "<table border=\"1\" class=\"dataframe\">\n",
       "  <thead>\n",
       "    <tr style=\"text-align: right;\">\n",
       "      <th></th>\n",
       "      <th>prop_name</th>\n",
       "      <th>dev_name</th>\n",
       "      <th>flat_size</th>\n",
       "      <th>location</th>\n",
       "      <th>price</th>\n",
       "      <th>emi</th>\n",
       "      <th>possession</th>\n",
       "      <th>avg_sqft_price</th>\n",
       "    </tr>\n",
       "  </thead>\n",
       "  <tbody>\n",
       "    <tr>\n",
       "      <th>0</th>\n",
       "      <td>Pallavi Gardenia</td>\n",
       "      <td>By  Pallavi Developers</td>\n",
       "      <td>3 BHK Flat for sale in Nagole, Hyderabad</td>\n",
       "      <td>Nagole,East Hyderabad,Hyderabad</td>\n",
       "      <td>1.16</td>\n",
       "      <td>43.83</td>\n",
       "      <td>Apr, 2023</td>\n",
       "      <td>₹5.40 K/sq.ft</td>\n",
       "    </tr>\n",
       "    <tr>\n",
       "      <th>1</th>\n",
       "      <td>Pallavi Gardenia</td>\n",
       "      <td>By  Pallavi Developers</td>\n",
       "      <td>3 BHK Flat for sale in Nagole, Hyderabad</td>\n",
       "      <td>Nagole,East Hyderabad,Hyderabad</td>\n",
       "      <td>1.16</td>\n",
       "      <td>43.83</td>\n",
       "      <td>Apr, 2023</td>\n",
       "      <td>₹5.40 K/sq.ft</td>\n",
       "    </tr>\n",
       "    <tr>\n",
       "      <th>2</th>\n",
       "      <td>Sriram River View</td>\n",
       "      <td>By  SRR Estates LLP</td>\n",
       "      <td>3, 4 BHK Flats for sale in Narsingi, Hyderabad</td>\n",
       "      <td>Narsingi,West Hyderabad,Hyderabad</td>\n",
       "      <td>2.42</td>\n",
       "      <td>70.18</td>\n",
       "      <td>Dec, 2026</td>\n",
       "      <td>₹7.50 K/sq.ft</td>\n",
       "    </tr>\n",
       "    <tr>\n",
       "      <th>3</th>\n",
       "      <td>Pallavi Gardenia</td>\n",
       "      <td>By  Pallavi Developers</td>\n",
       "      <td>3 BHK Flat for sale in Nagole, Hyderabad</td>\n",
       "      <td>Nagole,East Hyderabad,Hyderabad</td>\n",
       "      <td>1.16</td>\n",
       "      <td>43.83</td>\n",
       "      <td>Apr, 2023</td>\n",
       "      <td>₹5.40 K/sq.ft</td>\n",
       "    </tr>\n",
       "    <tr>\n",
       "      <th>4</th>\n",
       "      <td>Sriram River View</td>\n",
       "      <td>By  SRR Estates LLP</td>\n",
       "      <td>3, 4 BHK Flats for sale in Narsingi, Hyderabad</td>\n",
       "      <td>Narsingi,West Hyderabad,Hyderabad</td>\n",
       "      <td>2.42</td>\n",
       "      <td>70.18</td>\n",
       "      <td>Dec, 2026</td>\n",
       "      <td>₹7.50 K/sq.ft</td>\n",
       "    </tr>\n",
       "    <tr>\n",
       "      <th>...</th>\n",
       "      <td>...</td>\n",
       "      <td>...</td>\n",
       "      <td>...</td>\n",
       "      <td>...</td>\n",
       "      <td>...</td>\n",
       "      <td>...</td>\n",
       "      <td>...</td>\n",
       "      <td>...</td>\n",
       "    </tr>\n",
       "    <tr>\n",
       "      <th>645</th>\n",
       "      <td>Hallmark Pinnacle</td>\n",
       "      <td>By  Hallmark Builders</td>\n",
       "      <td>2, 3 BHK Flats for sale in Pati, Hyderabad</td>\n",
       "      <td>Pati,North Hyderabad,Hyderabad</td>\n",
       "      <td>1.04</td>\n",
       "      <td>37.42</td>\n",
       "      <td>Dec, 2025</td>\n",
       "      <td>₹5.50 K/sq.ft</td>\n",
       "    </tr>\n",
       "    <tr>\n",
       "      <th>646</th>\n",
       "      <td>Alpine Square</td>\n",
       "      <td>By  AR Anmol Developers</td>\n",
       "      <td>2, 3 BHK Flats for sale in Patancheru, Hyderabad</td>\n",
       "      <td>Patancheru, Hyderabad</td>\n",
       "      <td>74.7</td>\n",
       "      <td>26.10</td>\n",
       "      <td>Apr, 2023</td>\n",
       "      <td>₹5.30 K/sq.ft</td>\n",
       "    </tr>\n",
       "    <tr>\n",
       "      <th>647</th>\n",
       "      <td>Highgarden</td>\n",
       "      <td>By  Urban Spaces</td>\n",
       "      <td>Residential Plots for sale in Aloor, Hyderabad</td>\n",
       "      <td>Aloor,West Hyderabad,Hyderabad</td>\n",
       "      <td>1.71</td>\n",
       "      <td>29.73</td>\n",
       "      <td>Sep, 2025</td>\n",
       "      <td>₹17.50 K/sq.yd</td>\n",
       "    </tr>\n",
       "    <tr>\n",
       "      <th>648</th>\n",
       "      <td>Sri Tirumala Millennium Phase III</td>\n",
       "      <td>By  Engineers Associates Pvt Ltd</td>\n",
       "      <td>2, 3 BHK Flats for sale in Mallapur, Hyderabad</td>\n",
       "      <td>Mallapur,East Hyderabad,Hyderabad</td>\n",
       "      <td>1.09</td>\n",
       "      <td>26.92</td>\n",
       "      <td>Oct, 2027</td>\n",
       "      <td>₹5.00 K/sq.ft</td>\n",
       "    </tr>\n",
       "    <tr>\n",
       "      <th>649</th>\n",
       "      <td>Vasavi Nandanam</td>\n",
       "      <td>By  Vasavi Group</td>\n",
       "      <td>2, 3 BHK Flats for sale in Jeedimetla, Hyderabad</td>\n",
       "      <td>Jeedimetla,North Hyderabad,Hyderabad</td>\n",
       "      <td>1.11</td>\n",
       "      <td>35.97</td>\n",
       "      <td>Dec, 2025</td>\n",
       "      <td>₹5.50 K/sq.ft</td>\n",
       "    </tr>\n",
       "  </tbody>\n",
       "</table>\n",
       "<p>650 rows × 8 columns</p>\n",
       "</div>"
      ],
      "text/plain": [
       "                             prop_name                          dev_name  \\\n",
       "0                     Pallavi Gardenia            By  Pallavi Developers   \n",
       "1                     Pallavi Gardenia            By  Pallavi Developers   \n",
       "2                    Sriram River View               By  SRR Estates LLP   \n",
       "3                     Pallavi Gardenia            By  Pallavi Developers   \n",
       "4                    Sriram River View               By  SRR Estates LLP   \n",
       "..                                 ...                               ...   \n",
       "645                  Hallmark Pinnacle             By  Hallmark Builders   \n",
       "646                      Alpine Square           By  AR Anmol Developers   \n",
       "647                         Highgarden                  By  Urban Spaces   \n",
       "648  Sri Tirumala Millennium Phase III  By  Engineers Associates Pvt Ltd   \n",
       "649                    Vasavi Nandanam                  By  Vasavi Group   \n",
       "\n",
       "                                            flat_size  \\\n",
       "0            3 BHK Flat for sale in Nagole, Hyderabad   \n",
       "1            3 BHK Flat for sale in Nagole, Hyderabad   \n",
       "2      3, 4 BHK Flats for sale in Narsingi, Hyderabad   \n",
       "3            3 BHK Flat for sale in Nagole, Hyderabad   \n",
       "4      3, 4 BHK Flats for sale in Narsingi, Hyderabad   \n",
       "..                                                ...   \n",
       "645        2, 3 BHK Flats for sale in Pati, Hyderabad   \n",
       "646  2, 3 BHK Flats for sale in Patancheru, Hyderabad   \n",
       "647    Residential Plots for sale in Aloor, Hyderabad   \n",
       "648    2, 3 BHK Flats for sale in Mallapur, Hyderabad   \n",
       "649  2, 3 BHK Flats for sale in Jeedimetla, Hyderabad   \n",
       "\n",
       "                                 location price    emi possession  \\\n",
       "0         Nagole,East Hyderabad,Hyderabad  1.16  43.83  Apr, 2023   \n",
       "1         Nagole,East Hyderabad,Hyderabad  1.16  43.83  Apr, 2023   \n",
       "2       Narsingi,West Hyderabad,Hyderabad  2.42  70.18  Dec, 2026   \n",
       "3         Nagole,East Hyderabad,Hyderabad  1.16  43.83  Apr, 2023   \n",
       "4       Narsingi,West Hyderabad,Hyderabad  2.42  70.18  Dec, 2026   \n",
       "..                                    ...   ...    ...        ...   \n",
       "645        Pati,North Hyderabad,Hyderabad  1.04  37.42  Dec, 2025   \n",
       "646                 Patancheru, Hyderabad  74.7  26.10  Apr, 2023   \n",
       "647        Aloor,West Hyderabad,Hyderabad  1.71  29.73  Sep, 2025   \n",
       "648     Mallapur,East Hyderabad,Hyderabad  1.09  26.92  Oct, 2027   \n",
       "649  Jeedimetla,North Hyderabad,Hyderabad  1.11  35.97  Dec, 2025   \n",
       "\n",
       "     avg_sqft_price  \n",
       "0     ₹5.40 K/sq.ft  \n",
       "1     ₹5.40 K/sq.ft  \n",
       "2     ₹7.50 K/sq.ft  \n",
       "3     ₹5.40 K/sq.ft  \n",
       "4     ₹7.50 K/sq.ft  \n",
       "..              ...  \n",
       "645   ₹5.50 K/sq.ft  \n",
       "646   ₹5.30 K/sq.ft  \n",
       "647  ₹17.50 K/sq.yd  \n",
       "648   ₹5.00 K/sq.ft  \n",
       "649   ₹5.50 K/sq.ft  \n",
       "\n",
       "[650 rows x 8 columns]"
      ]
     },
     "execution_count": 76,
     "metadata": {},
     "output_type": "execute_result"
    }
   ],
   "source": [
    "final[:650]"
   ]
  },
  {
   "cell_type": "code",
   "execution_count": 77,
   "id": "b14ef60b",
   "metadata": {},
   "outputs": [
    {
     "name": "stdout",
     "output_type": "stream",
     "text": [
      "<class 'pandas.core.frame.DataFrame'>\n",
      "RangeIndex: 820 entries, 0 to 819\n",
      "Data columns (total 8 columns):\n",
      " #   Column          Non-Null Count  Dtype \n",
      "---  ------          --------------  ----- \n",
      " 0   prop_name       610 non-null    object\n",
      " 1   dev_name        610 non-null    object\n",
      " 2   flat_size       610 non-null    object\n",
      " 3   location        820 non-null    object\n",
      " 4   price           820 non-null    object\n",
      " 5   emi             820 non-null    object\n",
      " 6   possession      820 non-null    object\n",
      " 7   avg_sqft_price  820 non-null    object\n",
      "dtypes: object(8)\n",
      "memory usage: 51.4+ KB\n"
     ]
    }
   ],
   "source": [
    "final.info()"
   ]
  },
  {
   "cell_type": "code",
   "execution_count": 79,
   "id": "eb4fc10d",
   "metadata": {
    "scrolled": true
   },
   "outputs": [
    {
     "data": {
      "text/html": [
       "<div>\n",
       "<style scoped>\n",
       "    .dataframe tbody tr th:only-of-type {\n",
       "        vertical-align: middle;\n",
       "    }\n",
       "\n",
       "    .dataframe tbody tr th {\n",
       "        vertical-align: top;\n",
       "    }\n",
       "\n",
       "    .dataframe thead th {\n",
       "        text-align: right;\n",
       "    }\n",
       "</style>\n",
       "<table border=\"1\" class=\"dataframe\">\n",
       "  <thead>\n",
       "    <tr style=\"text-align: right;\">\n",
       "      <th></th>\n",
       "      <th>prop_name</th>\n",
       "      <th>dev_name</th>\n",
       "      <th>flat_size</th>\n",
       "      <th>location</th>\n",
       "      <th>price</th>\n",
       "      <th>emi</th>\n",
       "      <th>possession</th>\n",
       "      <th>avg_sqft_price</th>\n",
       "    </tr>\n",
       "  </thead>\n",
       "  <tbody>\n",
       "    <tr>\n",
       "      <th>0</th>\n",
       "      <td>Pallavi Gardenia</td>\n",
       "      <td>By  Pallavi Developers</td>\n",
       "      <td>3 BHK Flat for sale in Nagole, Hyderabad</td>\n",
       "      <td>Nagole,East Hyderabad,Hyderabad</td>\n",
       "      <td>1.16</td>\n",
       "      <td>43.83</td>\n",
       "      <td>Apr, 2023</td>\n",
       "      <td>₹5.40 K/sq.ft</td>\n",
       "    </tr>\n",
       "    <tr>\n",
       "      <th>1</th>\n",
       "      <td>Pallavi Gardenia</td>\n",
       "      <td>By  Pallavi Developers</td>\n",
       "      <td>3 BHK Flat for sale in Nagole, Hyderabad</td>\n",
       "      <td>Nagole,East Hyderabad,Hyderabad</td>\n",
       "      <td>1.16</td>\n",
       "      <td>43.83</td>\n",
       "      <td>Apr, 2023</td>\n",
       "      <td>₹5.40 K/sq.ft</td>\n",
       "    </tr>\n",
       "    <tr>\n",
       "      <th>2</th>\n",
       "      <td>Sriram River View</td>\n",
       "      <td>By  SRR Estates LLP</td>\n",
       "      <td>3, 4 BHK Flats for sale in Narsingi, Hyderabad</td>\n",
       "      <td>Narsingi,West Hyderabad,Hyderabad</td>\n",
       "      <td>2.42</td>\n",
       "      <td>70.18</td>\n",
       "      <td>Dec, 2026</td>\n",
       "      <td>₹7.50 K/sq.ft</td>\n",
       "    </tr>\n",
       "    <tr>\n",
       "      <th>3</th>\n",
       "      <td>Pallavi Gardenia</td>\n",
       "      <td>By  Pallavi Developers</td>\n",
       "      <td>3 BHK Flat for sale in Nagole, Hyderabad</td>\n",
       "      <td>Nagole,East Hyderabad,Hyderabad</td>\n",
       "      <td>1.16</td>\n",
       "      <td>43.83</td>\n",
       "      <td>Apr, 2023</td>\n",
       "      <td>₹5.40 K/sq.ft</td>\n",
       "    </tr>\n",
       "    <tr>\n",
       "      <th>4</th>\n",
       "      <td>Sriram River View</td>\n",
       "      <td>By  SRR Estates LLP</td>\n",
       "      <td>3, 4 BHK Flats for sale in Narsingi, Hyderabad</td>\n",
       "      <td>Narsingi,West Hyderabad,Hyderabad</td>\n",
       "      <td>2.42</td>\n",
       "      <td>70.18</td>\n",
       "      <td>Dec, 2026</td>\n",
       "      <td>₹7.50 K/sq.ft</td>\n",
       "    </tr>\n",
       "  </tbody>\n",
       "</table>\n",
       "</div>"
      ],
      "text/plain": [
       "           prop_name                dev_name  \\\n",
       "0   Pallavi Gardenia  By  Pallavi Developers   \n",
       "1   Pallavi Gardenia  By  Pallavi Developers   \n",
       "2  Sriram River View     By  SRR Estates LLP   \n",
       "3   Pallavi Gardenia  By  Pallavi Developers   \n",
       "4  Sriram River View     By  SRR Estates LLP   \n",
       "\n",
       "                                        flat_size  \\\n",
       "0        3 BHK Flat for sale in Nagole, Hyderabad   \n",
       "1        3 BHK Flat for sale in Nagole, Hyderabad   \n",
       "2  3, 4 BHK Flats for sale in Narsingi, Hyderabad   \n",
       "3        3 BHK Flat for sale in Nagole, Hyderabad   \n",
       "4  3, 4 BHK Flats for sale in Narsingi, Hyderabad   \n",
       "\n",
       "                            location price    emi possession avg_sqft_price  \n",
       "0    Nagole,East Hyderabad,Hyderabad  1.16  43.83  Apr, 2023  ₹5.40 K/sq.ft  \n",
       "1    Nagole,East Hyderabad,Hyderabad  1.16  43.83  Apr, 2023  ₹5.40 K/sq.ft  \n",
       "2  Narsingi,West Hyderabad,Hyderabad  2.42  70.18  Dec, 2026  ₹7.50 K/sq.ft  \n",
       "3    Nagole,East Hyderabad,Hyderabad  1.16  43.83  Apr, 2023  ₹5.40 K/sq.ft  \n",
       "4  Narsingi,West Hyderabad,Hyderabad  2.42  70.18  Dec, 2026  ₹7.50 K/sq.ft  "
      ]
     },
     "execution_count": 79,
     "metadata": {},
     "output_type": "execute_result"
    }
   ],
   "source": [
    "final.head()"
   ]
  },
  {
   "cell_type": "code",
   "execution_count": 96,
   "id": "f54f4294",
   "metadata": {},
   "outputs": [
    {
     "data": {
      "text/plain": [
       "0                 Borabanda,North Hyderabad,Hyderabad\n",
       "1                 Borabanda,North Hyderabad,Hyderabad\n",
       "2                Shamshabad,South Hyderabad,Hyderabad\n",
       "3                 Borabanda,North Hyderabad,Hyderabad\n",
       "4                Shamshabad,South Hyderabad,Hyderabad\n",
       "                            ...                      \n",
       "815                               Sumadhura Acropolis\n",
       "816    Hiranandani Loftline Phase 3,Mokila, Hyderabad\n",
       "817                                   VASAVI ATLANTIS\n",
       "818           JB nature valley ,Choutuppal, Hyderabad\n",
       "819                                    My Home Ankura\n",
       "Name: location, Length: 820, dtype: object"
      ]
     },
     "execution_count": 96,
     "metadata": {},
     "output_type": "execute_result"
    }
   ],
   "source": [
    "final['location']"
   ]
  },
  {
   "cell_type": "markdown",
   "id": "102adbe3",
   "metadata": {},
   "source": [
    "**Converting Price and EMI into integers**"
   ]
  },
  {
   "cell_type": "code",
   "execution_count": 83,
   "id": "bf8134a8",
   "metadata": {},
   "outputs": [],
   "source": [
    "final['emi'] = pd.to_numeric(final['emi'])"
   ]
  },
  {
   "cell_type": "code",
   "execution_count": 94,
   "id": "933ed723",
   "metadata": {},
   "outputs": [],
   "source": [
    "final['price'] = pd.to_numeric(final['price'])"
   ]
  },
  {
   "cell_type": "markdown",
   "id": "3a2f9fd5",
   "metadata": {},
   "source": [
    "# EDA"
   ]
  },
  {
   "cell_type": "code",
   "execution_count": 95,
   "id": "2729a653",
   "metadata": {},
   "outputs": [
    {
     "data": {
      "text/plain": [
       "<AxesSubplot: xlabel='price', ylabel='Count'>"
      ]
     },
     "execution_count": 95,
     "metadata": {},
     "output_type": "execute_result"
    },
    {
     "data": {
      "image/png": "[encoded data removed]",
      "text/plain": [
       "<Figure size 640x480 with 1 Axes>"
      ]
     },
     "metadata": {},
     "output_type": "display_data"
    }
   ],
   "source": [
    "sns.histplot(data = final['price'][:650], kde=True, bins = 30)"
   ]
  },
  {
   "cell_type": "code",
   "execution_count": 55,
   "id": "a888aa62",
   "metadata": {},
   "outputs": [
    {
     "data": {
      "text/plain": [
       "<AxesSubplot: >"
      ]
     },
     "execution_count": 55,
     "metadata": {},
     "output_type": "execute_result"
    },
    {
     "data": {
      "image/png": "[encoded data removed]",
      "text/plain": [
       "<Figure size 640x480 with 1 Axes>"
      ]
     },
     "metadata": {},
     "output_type": "display_data"
    }
   ],
   "source": [
    "sns.boxplot(data = final['price'][:650])"
   ]
  },
  {
   "cell_type": "code",
   "execution_count": 84,
   "id": "6324485d",
   "metadata": {},
   "outputs": [
    {
     "data": {
      "text/plain": [
       "<AxesSubplot: xlabel='emi', ylabel='Count'>"
      ]
     },
     "execution_count": 84,
     "metadata": {},
     "output_type": "execute_result"
    },
    {
     "data": {
      "image/png": "[encoded data removed]",
      "text/plain": [
       "<Figure size 640x480 with 1 Axes>"
      ]
     },
     "metadata": {},
     "output_type": "display_data"
    }
   ],
   "source": [
    "sns.histplot(data = final['emi'][:650], kde=True, bins = 30)"
   ]
  }
 ],
 "metadata": {
  "kernelspec": {
   "display_name": "Python 3 (ipykernel)",
   "language": "python",
   "name": "python3"
  },
  "language_info": {
   "codemirror_mode": {
    "name": "ipython",
    "version": 3
   },
   "file_extension": ".py",
   "mimetype": "text/x-python",
   "name": "python",
   "nbconvert_exporter": "python",
   "pygments_lexer": "ipython3",
   "version": "3.9.12"
  }
 },
 "nbformat": 4,
 "nbformat_minor": 5
}
